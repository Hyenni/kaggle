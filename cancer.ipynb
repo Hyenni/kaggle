{
  "nbformat": 4,
  "nbformat_minor": 0,
  "metadata": {
    "colab": {
      "name": "cancer.ipynb",
      "version": "0.3.2",
      "provenance": [],
      "collapsed_sections": [],
      "include_colab_link": true
    },
    "kernelspec": {
      "name": "python3",
      "display_name": "Python 3"
    },
    "accelerator": "GPU"
  },
  "cells": [
    {
      "cell_type": "markdown",
      "metadata": {
        "id": "view-in-github",
        "colab_type": "text"
      },
      "source": [
        "<a href=\"https://colab.research.google.com/github/Hyenni/kaggle/blob/cancer/cancer.ipynb\" target=\"_parent\"><img src=\"https://colab.research.google.com/assets/colab-badge.svg\" alt=\"Open In Colab\"/></a>"
      ]
    },
    {
      "metadata": {
        "id": "mvX4Cefug-BO",
        "colab_type": "text"
      },
      "cell_type": "markdown",
      "source": [
        "## kaggle competition data download method"
      ]
    },
    {
      "metadata": {
        "id": "bqjBQTd9wAGa",
        "colab_type": "code",
        "outputId": "16529557-c7e8-43e8-a8a0-a9ff48aab2d2",
        "colab": {
          "base_uri": "https://localhost:8080/",
          "height": 217
        }
      },
      "cell_type": "code",
      "source": [
        "!pip install kaggle"
      ],
      "execution_count": 0,
      "outputs": [
        {
          "output_type": "stream",
          "text": [
            "Requirement already satisfied: kaggle in /usr/local/lib/python3.6/dist-packages (1.5.2)\n",
            "Requirement already satisfied: urllib3<1.23.0,>=1.15 in /usr/local/lib/python3.6/dist-packages (from kaggle) (1.22)\n",
            "Requirement already satisfied: six>=1.10 in /usr/local/lib/python3.6/dist-packages (from kaggle) (1.11.0)\n",
            "Requirement already satisfied: certifi in /usr/local/lib/python3.6/dist-packages (from kaggle) (2018.11.29)\n",
            "Requirement already satisfied: python-dateutil in /usr/local/lib/python3.6/dist-packages (from kaggle) (2.5.3)\n",
            "Requirement already satisfied: requests in /usr/local/lib/python3.6/dist-packages (from kaggle) (2.18.4)\n",
            "Requirement already satisfied: tqdm in /usr/local/lib/python3.6/dist-packages (from kaggle) (4.28.1)\n",
            "Requirement already satisfied: python-slugify in /usr/local/lib/python3.6/dist-packages (from kaggle) (2.0.1)\n",
            "Requirement already satisfied: idna<2.7,>=2.5 in /usr/local/lib/python3.6/dist-packages (from requests->kaggle) (2.6)\n",
            "Requirement already satisfied: chardet<3.1.0,>=3.0.2 in /usr/local/lib/python3.6/dist-packages (from requests->kaggle) (3.0.4)\n",
            "Requirement already satisfied: Unidecode>=0.04.16 in /usr/local/lib/python3.6/dist-packages (from python-slugify->kaggle) (1.0.23)\n"
          ],
          "name": "stdout"
        }
      ]
    },
    {
      "metadata": {
        "id": "TPXOkjKnwBvz",
        "colab_type": "code",
        "colab": {}
      },
      "cell_type": "code",
      "source": [
        "from google.colab import files\n",
        "files.upload()"
      ],
      "execution_count": 0,
      "outputs": []
    },
    {
      "metadata": {
        "id": "JPaKJx_TwB1o",
        "colab_type": "code",
        "outputId": "6317bbf6-b54c-4588-fa70-44ac036583f0",
        "colab": {
          "base_uri": "https://localhost:8080/",
          "height": 435
        }
      },
      "cell_type": "code",
      "source": [
        "!mkdir -p ~/.kaggle\n",
        "!cp kaggle.json ~/.kaggle\n",
        "!kaggle competitions list"
      ],
      "execution_count": 0,
      "outputs": [
        {
          "output_type": "stream",
          "text": [
            "Warning: Your Kaggle API key is readable by other users on this system! To fix this, you can run 'chmod 600 /root/.kaggle/kaggle.json'\n",
            "ref                                            deadline             category            reward  teamCount  userHasEntered  \n",
            "---------------------------------------------  -------------------  ---------------  ---------  ---------  --------------  \n",
            "digit-recognizer                               2030-01-01 00:00:00  Getting Started  Knowledge       2600           False  \n",
            "titanic                                        2030-01-01 00:00:00  Getting Started  Knowledge      10047            True  \n",
            "house-prices-advanced-regression-techniques    2030-01-01 00:00:00  Getting Started  Knowledge       4105           False  \n",
            "imagenet-object-localization-challenge         2029-12-31 07:00:00  Research         Knowledge         33           False  \n",
            "competitive-data-science-predict-future-sales  2019-12-31 23:59:00  Playground           Kudos       2305           False  \n",
            "two-sigma-financial-news                       2019-07-15 23:59:00  Featured          $100,000       2897           False  \n",
            "LANL-Earthquake-Prediction                     2019-06-03 23:59:00  Research           $50,000       1056           False  \n",
            "tmdb-box-office-prediction                     2019-05-30 23:59:00  Playground       Knowledge         91           False  \n",
            "dont-overfit-ii                                2019-05-07 23:59:00  Playground            Swag        304           False  \n",
            "gendered-pronoun-resolution                    2019-04-22 23:59:00  Research           $25,000        140           False  \n",
            "histopathologic-cancer-detection               2019-03-30 23:59:00  Playground       Knowledge        583            True  \n",
            "petfinder-adoption-prediction                  2019-03-28 23:59:00  Featured           $25,000       1052           False  \n",
            "vsb-power-line-fault-detection                 2019-03-21 23:59:00  Featured           $25,000        847           False  \n",
            "microsoft-malware-prediction                   2019-03-13 23:59:00  Research           $25,000       1607           False  \n",
            "humpback-whale-identification                  2019-02-28 23:59:00  Featured           $25,000       1801           False  \n",
            "elo-merchant-category-recommendation           2019-02-26 23:59:00  Featured           $50,000       3677            True  \n",
            "quora-insincere-questions-classification       2019-02-26 23:59:00  Featured           $25,000       4037           False  \n",
            "ga-customer-revenue-prediction                 2019-02-15 23:59:00  Featured           $45,000       1104           False  \n",
            "reducing-commercial-aviation-fatalities        2019-02-12 23:59:00  Playground            Swag        164           False  \n",
            "pubg-finish-placement-prediction               2019-01-30 23:59:00  Playground            Swag       1534           False  \n"
          ],
          "name": "stdout"
        }
      ]
    },
    {
      "metadata": {
        "id": "09tIKdlf4zaj",
        "colab_type": "code",
        "colab": {}
      },
      "cell_type": "code",
      "source": [
        "!chmod 600 /root/.kaggle/kaggle.json"
      ],
      "execution_count": 0,
      "outputs": []
    },
    {
      "metadata": {
        "id": "MyHzTTPfwB6Q",
        "colab_type": "code",
        "outputId": "d5559145-4a94-45a1-9917-edb085b10a39",
        "colab": {
          "base_uri": "https://localhost:8080/",
          "height": 235
        }
      },
      "cell_type": "code",
      "source": [
        "!kaggle competitions download -c histopathologic-cancer-detection"
      ],
      "execution_count": 0,
      "outputs": [
        {
          "output_type": "stream",
          "text": [
            "Downloading sample_submission.csv.zip to /content\n",
            "\r  0% 0.00/1.33M [00:00<?, ?B/s]\n",
            "100% 1.33M/1.33M [00:00<00:00, 44.5MB/s]\n",
            "Downloading train_labels.csv.zip to /content\n",
            " 98% 5.00M/5.10M [00:00<00:00, 20.8MB/s]\n",
            "100% 5.10M/5.10M [00:00<00:00, 20.3MB/s]\n",
            "Downloading test.zip to /content\n",
            "100% 1.30G/1.30G [00:20<00:00, 41.6MB/s]\n",
            "100% 1.30G/1.30G [00:20<00:00, 69.1MB/s]\n",
            "Downloading train.zip to /content\n",
            "100% 4.98G/4.98G [01:24<00:00, 75.2MB/s]\n",
            "100% 4.98G/4.98G [01:25<00:00, 62.9MB/s]\n"
          ],
          "name": "stdout"
        }
      ]
    },
    {
      "metadata": {
        "id": "ORUPBwFLwB_L",
        "colab_type": "code",
        "outputId": "a609ad30-e0c1-4732-e3ee-657140167fd4",
        "colab": {
          "base_uri": "https://localhost:8080/",
          "height": 199
        }
      },
      "cell_type": "code",
      "source": [
        "!ls -al"
      ],
      "execution_count": 0,
      "outputs": [
        {
          "output_type": "stream",
          "text": [
            "total 6596528\n",
            "drwxr-xr-x 1 root root       4096 Feb 11 04:49 .\n",
            "drwxr-xr-x 1 root root       4096 Feb 11 04:46 ..\n",
            "drwxr-xr-x 1 root root       4096 Feb  6 17:30 .config\n",
            "-rw-r--r-- 1 root root         62 Feb 11 04:48 kaggle.json\n",
            "drwxr-xr-x 1 root root       4096 Feb  6 17:31 sample_data\n",
            "-rw-r--r-- 1 root root    1394488 Feb 11 04:49 sample_submission.csv.zip\n",
            "-rw-r--r-- 1 root root 1401100547 Feb 11 04:49 test.zip\n",
            "-rw-r--r-- 1 root root    5352900 Feb 11 04:49 train_labels.csv.zip\n",
            "-rw-r--r-- 1 root root 5346961539 Feb 11 04:51 train.zip\n"
          ],
          "name": "stdout"
        }
      ]
    },
    {
      "metadata": {
        "id": "nwCcO4nWxO5I",
        "colab_type": "code",
        "outputId": "d18a10ad-629c-4750-8f55-8da838ecd6eb",
        "colab": {
          "base_uri": "https://localhost:8080/",
          "height": 54
        }
      },
      "cell_type": "code",
      "source": [
        "!unzip sample_submission.csv.zip"
      ],
      "execution_count": 0,
      "outputs": [
        {
          "output_type": "stream",
          "text": [
            "Archive:  sample_submission.csv.zip\n",
            "  inflating: sample_submission.csv   \n"
          ],
          "name": "stdout"
        }
      ]
    },
    {
      "metadata": {
        "id": "Wq6JKtC0xUKD",
        "colab_type": "code",
        "outputId": "eaff35b1-0e3e-40ce-b521-e2455d42bf17",
        "colab": {
          "base_uri": "https://localhost:8080/",
          "height": 54
        }
      },
      "cell_type": "code",
      "source": [
        "!unzip train_labels.csv.zip"
      ],
      "execution_count": 0,
      "outputs": [
        {
          "output_type": "stream",
          "text": [
            "Archive:  train_labels.csv.zip\n",
            "  inflating: train_labels.csv        \n"
          ],
          "name": "stdout"
        }
      ]
    },
    {
      "metadata": {
        "id": "2H49YFN64lVj",
        "colab_type": "code",
        "outputId": "3984363a-88ba-4d54-a854-c1182db2f69e",
        "colab": {
          "base_uri": "https://localhost:8080/",
          "height": 235
        }
      },
      "cell_type": "code",
      "source": [
        "!ls -al"
      ],
      "execution_count": 0,
      "outputs": [
        {
          "output_type": "stream",
          "text": [
            "total 6608184\n",
            "drwxr-xr-x 1 root root       4096 Feb 11 04:51 .\n",
            "drwxr-xr-x 1 root root       4096 Feb 11 04:46 ..\n",
            "drwxr-xr-x 1 root root       4096 Feb  6 17:30 .config\n",
            "-rw-r--r-- 1 root root         62 Feb 11 04:48 kaggle.json\n",
            "drwxr-xr-x 1 root root       4096 Feb  6 17:31 sample_data\n",
            "---------- 1 root root    2470703 Nov 15 23:48 sample_submission.csv\n",
            "-rw-r--r-- 1 root root    1394488 Feb 11 04:49 sample_submission.csv.zip\n",
            "-rw-r--r-- 1 root root 1401100547 Feb 11 04:49 test.zip\n",
            "---------- 1 root root    9461084 Nov 15 23:48 train_labels.csv\n",
            "-rw-r--r-- 1 root root    5352900 Feb 11 04:49 train_labels.csv.zip\n",
            "-rw-r--r-- 1 root root 5346961539 Feb 11 04:51 train.zip\n"
          ],
          "name": "stdout"
        }
      ]
    },
    {
      "metadata": {
        "id": "D47EGpMO5mhd",
        "colab_type": "code",
        "colab": {}
      },
      "cell_type": "code",
      "source": [
        "!unzip train.zip"
      ],
      "execution_count": 0,
      "outputs": []
    },
    {
      "metadata": {
        "id": "pUHi4IihxXO6",
        "colab_type": "code",
        "colab": {}
      },
      "cell_type": "code",
      "source": [
        "!unzip test.zip"
      ],
      "execution_count": 0,
      "outputs": []
    },
    {
      "metadata": {
        "id": "eCTpX6NHirJF",
        "colab_type": "text"
      },
      "cell_type": "markdown",
      "source": [
        "\n",
        "\n",
        "---\n",
        "\n",
        "---\n",
        "\n",
        "\n"
      ]
    },
    {
      "metadata": {
        "_cell_guid": "79c7e3d0-c299-4dcb-8224-4455121ee9b0",
        "_uuid": "d629ff2d2480ee46fbb7e2d37f6b5fab8052498a",
        "trusted": true,
        "id": "-lMGRGtVv5kH",
        "colab_type": "code",
        "colab": {}
      },
      "cell_type": "code",
      "source": [
        "from keras.preprocessing.image import ImageDataGenerator\n",
        "from keras.models import Sequential, load_model, Model\n",
        "from keras.layers import Activation, Dropout, Flatten, Dense, Input, Conv2D, MaxPooling2D, BatchNormalization, Concatenate, ReLU, LeakyReLU\n",
        "from keras.callbacks import ModelCheckpoint, LearningRateScheduler, EarlyStopping, ReduceLROnPlateau\n",
        "from keras import metrics\n",
        "from keras.optimizers import Adam\n",
        "from keras.callbacks import ModelCheckpoint\n",
        "from keras import backend as K\n",
        "import keras\n",
        "import tensorflow as tf\n",
        "\n",
        "from tensorflow import set_random_seed\n",
        "set_random_seed(777)\n",
        "\n",
        "import pandas as pd\n",
        "import numpy as np\n",
        "\n",
        "import os\n",
        "import cv2\n",
        "\n",
        "from sklearn.utils import shuffle\n",
        "from sklearn.metrics import confusion_matrix\n",
        "from sklearn.model_selection import train_test_split\n",
        "import itertools\n",
        "import shutil\n",
        "import matplotlib.pyplot as plt\n",
        "%matplotlib inline\n",
        "\n",
        "SHAPE = (96,96,3)\n",
        "BATCH_SIZE = 64"
      ],
      "execution_count": 0,
      "outputs": []
    },
    {
      "metadata": {
        "id": "dlfKUCKljjau",
        "colab_type": "text"
      },
      "cell_type": "markdown",
      "source": [
        "![1](https://user-images.githubusercontent.com/33708512/52691262-ae2efb00-2fa3-11e9-8056-1ef43dac2882.PNG)"
      ]
    },
    {
      "metadata": {
        "_uuid": "fee990346cbb8e1b68754abacbaf1483010ad0b6",
        "id": "AEu3s59fv5kL",
        "colab_type": "text"
      },
      "cell_type": "markdown",
      "source": [
        "## * File load\n",
        "\n",
        "### Label as per train_labels.csv file\n",
        "\n",
        "0 = no tumor tissue<br>\n",
        "1 =   has tumor tissue. <br>\n",
        "\n",
        "Label이 0인 이미지는 암세포가 없으며, 1인 이미지는 암세포가 있습니다."
      ]
    },
    {
      "metadata": {
        "trusted": true,
        "_uuid": "c0ee4b1ac23da5da1e9440846554ac6254b7c999",
        "id": "3bjRKiPGv5kL",
        "colab_type": "code",
        "colab": {}
      },
      "cell_type": "code",
      "source": [
        "df_data = pd.read_csv('../input/train_labels.csv')\n",
        "print(df_data.head())"
      ],
      "execution_count": 0,
      "outputs": []
    },
    {
      "metadata": {
        "id": "o6VRK2GsCWjI",
        "colab_type": "text"
      },
      "cell_type": "markdown",
      "source": [
        "![1](https://user-images.githubusercontent.com/33708512/52547214-65dbd580-2e09-11e9-8f35-448a4da3e57b.PNG)"
      ]
    },
    {
      "metadata": {
        "_uuid": "2815b44fc5e8c8d89134a251848c3b2e964cc225",
        "id": "ZXrKRadBv5kO",
        "colab_type": "text"
      },
      "cell_type": "markdown",
      "source": [
        "### Create a Dataframe containing all images\n",
        "아래 코드는 train_labels.csv 파일을 읽어들이고, 이전에 에러를 일으켰던 이미지와 검은 이미지를 삭제합니다."
      ]
    },
    {
      "metadata": {
        "trusted": true,
        "_uuid": "437d632e3b978508a1844eefb552c9850d675284",
        "id": "2Pju6vlsv5kP",
        "colab_type": "code",
        "colab": {}
      },
      "cell_type": "code",
      "source": [
        "\n",
        "# removing this image because it caused a training error previously\n",
        "#아래 이미지는 이전에 에러를 일으켰기 때문에 삭제합니다.\n",
        "df_data = df_data[df_data['id'] != 'dd6dfed324f9fcb6f93f46f32fc800f2ec196be2']\n",
        "\n",
        "# removing this image because it's black\n",
        "#아래 이미지는 그냥 검은 이미지라서 삭제합니다.\n",
        "df_data = df_data[df_data['id'] != '9369c7278ec8bcc6c880d99194de09fc2bd4efbe']\n",
        "\n",
        "\n",
        "print(df_data.shape)"
      ],
      "execution_count": 0,
      "outputs": []
    },
    {
      "metadata": {
        "id": "5zWtwEGFkCRJ",
        "colab_type": "text"
      },
      "cell_type": "markdown",
      "source": [
        "![3](https://user-images.githubusercontent.com/33708512/52691379-05cd6680-2fa4-11e9-9059-4541f0e6a907.PNG)"
      ]
    },
    {
      "metadata": {
        "trusted": true,
        "_uuid": "fc3207d392fa8b8d2434c5169b43e21021e374a9",
        "id": "3-UswGSzv5kU",
        "colab_type": "code",
        "colab": {}
      },
      "cell_type": "code",
      "source": [
        "print('Number of image : ', len(df_data))\n",
        "print('Ratio labels : ', sum(df_data['label'].values)/len(df_data))\n",
        "img = plt.imread(\"../input/train/\"+df_data.iloc[0]['id']+'.tif')\n",
        "print('Images shape', img.shape)"
      ],
      "execution_count": 0,
      "outputs": []
    },
    {
      "metadata": {
        "id": "r0HNGch0kEOC",
        "colab_type": "text"
      },
      "cell_type": "markdown",
      "source": [
        "![4](https://user-images.githubusercontent.com/33708512/52691442-2ac1d980-2fa4-11e9-96b1-8c531c512d4f.PNG)"
      ]
    },
    {
      "metadata": {
        "_uuid": "fd7c6400d2889d4c619d1a84b0359521cbb1e9c9",
        "id": "QGPbrIoTv5kW",
        "colab_type": "text"
      },
      "cell_type": "markdown",
      "source": [
        "## * View the data distribution"
      ]
    },
    {
      "metadata": {
        "trusted": true,
        "_uuid": "d9c88c762d7473dc3a9fe5c10bfb2b95b1872cf7",
        "id": "G4dpaEstv5kY",
        "colab_type": "code",
        "colab": {}
      },
      "cell_type": "code",
      "source": [
        "import seaborn as sns\n",
        "sns.countplot('label', data=df_data)"
      ],
      "execution_count": 0,
      "outputs": []
    },
    {
      "metadata": {
        "id": "1GSkmA-ikP3C",
        "colab_type": "text"
      },
      "cell_type": "markdown",
      "source": [
        "![5](https://user-images.githubusercontent.com/33708512/52691443-2b5a7000-2fa4-11e9-826a-c098082d2986.PNG)\n"
      ]
    },
    {
      "metadata": {
        "trusted": true,
        "_uuid": "e18560bf69d3dfc0c4772e7c79bb119fd2eb634b",
        "id": "GHfbMk1av5ka",
        "colab_type": "code",
        "colab": {}
      },
      "cell_type": "code",
      "source": [
        "df_data['label'].value_counts()"
      ],
      "execution_count": 0,
      "outputs": []
    },
    {
      "metadata": {
        "id": "jpsapp6VkTPf",
        "colab_type": "text"
      },
      "cell_type": "markdown",
      "source": [
        "![6](https://user-images.githubusercontent.com/33708512/52691444-2b5a7000-2fa4-11e9-8dd9-d5b518b142c1.PNG)"
      ]
    },
    {
      "metadata": {
        "trusted": true,
        "_uuid": "f108177ab0195771268a6b5b4f2310895f628e16",
        "id": "y0mLnZnmv5kd",
        "colab_type": "code",
        "colab": {}
      },
      "cell_type": "code",
      "source": [
        "df_data.head(10)"
      ],
      "execution_count": 0,
      "outputs": []
    },
    {
      "metadata": {
        "id": "BmZrfCpVkXDE",
        "colab_type": "text"
      },
      "cell_type": "markdown",
      "source": [
        "![7](https://user-images.githubusercontent.com/33708512/52691445-2b5a7000-2fa4-11e9-9b6b-b2cc0f68400d.PNG)"
      ]
    },
    {
      "metadata": {
        "_uuid": "6efe2e5de99c4bf92079b1a7d0b892d30fc9d518",
        "id": "tOpMRSRIv5kg",
        "colab_type": "text"
      },
      "cell_type": "markdown",
      "source": [
        "## * Display a random sample of train images by class"
      ]
    },
    {
      "metadata": {
        "_kg_hide-input": true,
        "trusted": true,
        "_uuid": "1c5143f227da4262eafce8cf0210a02c8072fb8e",
        "id": "iKpvUvKlv5ki",
        "colab_type": "code",
        "colab": {}
      },
      "cell_type": "code",
      "source": [
        "# source: https://www.kaggle.com/gpreda/honey-bee-subspecies-classification\n",
        "\n",
        "def draw_category_images(col_name,figure_cols, df, IMAGE_PATH):\n",
        "\n",
        "    categories = (df.groupby([col_name])[col_name].nunique()).index\n",
        "    f, ax = plt.subplots(nrows=len(categories),ncols=figure_cols, \n",
        "                         figsize=(4*figure_cols,4*len(categories))) # adjust size here\n",
        "    # draw a number of images for each location\n",
        "    for i, cat in enumerate(categories):\n",
        "        sample = df[df[col_name]==cat].sample(figure_cols) # figure_cols is also the sample size\n",
        "        for j in range(0,figure_cols):\n",
        "            file=IMAGE_PATH + sample.iloc[j]['id'] + '.tif'\n",
        "            im=cv2.imread(file)\n",
        "            ax[i, j].imshow(im, resample=True, cmap='gray')\n",
        "            ax[i, j].set_title(cat, fontsize=16)  \n",
        "    plt.tight_layout()\n",
        "    plt.show()"
      ],
      "execution_count": 0,
      "outputs": []
    },
    {
      "metadata": {
        "trusted": true,
        "_uuid": "bd38bcfb5839975e4fee9e70b93d42c29c1b5d2e",
        "id": "XT2_zby0v5kl",
        "colab_type": "code",
        "colab": {}
      },
      "cell_type": "code",
      "source": [
        "IMAGE_PATH = '../input/train/' \n",
        "\n",
        "draw_category_images('label',4, df_data, IMAGE_PATH)"
      ],
      "execution_count": 0,
      "outputs": []
    },
    {
      "metadata": {
        "id": "w5YO5f2HkiN2",
        "colab_type": "text"
      },
      "cell_type": "markdown",
      "source": [
        "![8](https://user-images.githubusercontent.com/33708512/52691446-2b5a7000-2fa4-11e9-988d-b4c347e9e317.PNG)"
      ]
    },
    {
      "metadata": {
        "trusted": true,
        "_uuid": "ef780ac9a9fc89b4ff4f042593eb68992f354a1d",
        "id": "h89ephr9v5kp",
        "colab_type": "text"
      },
      "cell_type": "markdown",
      "source": [
        "### End of Data Preparation <br> ==================================================================================== <br> Start of Model Building"
      ]
    },
    {
      "metadata": {
        "_uuid": "f8dce940ee8a7a42aacb062e4c6b5a4a54dba58f",
        "id": "iWOPOugLv5kq",
        "colab_type": "text"
      },
      "cell_type": "markdown",
      "source": [
        "## * Set Up the Generators\n",
        "### 모델 설계에 앞서, Data Generator를 만들어야 합니다.\n"
      ]
    },
    {
      "metadata": {
        "trusted": true,
        "_uuid": "2e9673e3065b023eed4278f15108ce5c50cb2a23",
        "id": "5sUMUEKJv5kr",
        "colab_type": "code",
        "colab": {}
      },
      "cell_type": "code",
      "source": [
        "train_datagen = ImageDataGenerator(\n",
        "        rescale=1./255,\n",
        "        validation_split=0.1\n",
        ")\n",
        "\n",
        "test_datagen = ImageDataGenerator(rescale=1./255)\n",
        "\n",
        "train_path = '../input/train'\n",
        "valid_path = '../input/train'\n",
        "\n",
        "train_generator = train_datagen.flow_from_dataframe(\n",
        "                dataframe=df_data,\n",
        "                directory=train_path,\n",
        "                x_col = 'id',\n",
        "                y_col = 'label',\n",
        "                has_ext=False,\n",
        "                subset='training',\n",
        "                target_size=(96, 96),\n",
        "                batch_size=64,\n",
        "                class_mode='binary'\n",
        "                )\n",
        "\n",
        "validation_generator = train_datagen.flow_from_dataframe(\n",
        "                dataframe=df_data,\n",
        "                directory=valid_path,\n",
        "                x_col = 'id',\n",
        "                y_col = 'label',\n",
        "                has_ext=False,\n",
        "                subset='validation',\n",
        "                target_size=(96, 96),\n",
        "                batch_size=64,\n",
        "                shuffle=False,\n",
        "                class_mode='binary'\n",
        "                )"
      ],
      "execution_count": 0,
      "outputs": []
    },
    {
      "metadata": {
        "id": "88hWywKykyZW",
        "colab_type": "text"
      },
      "cell_type": "markdown",
      "source": [
        "![9](https://user-images.githubusercontent.com/33708512/52691447-2bf30680-2fa4-11e9-9f50-fcead9dc9ae6.PNG)"
      ]
    },
    {
      "metadata": {
        "_uuid": "79da4d0a66a90cffe40580a596dd4d0e2bc45a9b",
        "id": "vXU5e2wev5kt",
        "colab_type": "text"
      },
      "cell_type": "markdown",
      "source": [
        "## * Create the Model Architecture"
      ]
    },
    {
      "metadata": {
        "trusted": true,
        "_uuid": "b9835ea0fd0bca54138904895c39d38227a70c22",
        "id": "ZEmR_r_Ev5ku",
        "colab_type": "code",
        "colab": {}
      },
      "cell_type": "code",
      "source": [
        "def create_model(input_shape):\n",
        "    \n",
        "    dropRate = 0.25\n",
        "    \n",
        "    init = Input(input_shape)\n",
        "    x = BatchNormalization(axis=-1)(init)\n",
        "    x = Conv2D(8, (3, 3))(x)\n",
        "    x = ReLU()(x)\n",
        "    x = BatchNormalization(axis=-1)(x)\n",
        "    x = Conv2D(8, (3, 3))(x)\n",
        "    x = ReLU()(x)\n",
        "    x = BatchNormalization(axis=-1)(x)\n",
        "    x = Conv2D(16, (3, 3))(x)\n",
        "    x = ReLU()(x)\n",
        "    x = BatchNormalization(axis=-1)(x)\n",
        "    x = MaxPooling2D(pool_size=(2, 2))(x)\n",
        "    x = Dropout(dropRate)(x)\n",
        "    c1 = Conv2D(16, (3, 3), padding='same')(x)\n",
        "    c1 = ReLU()(c1)\n",
        "    c2 = Conv2D(16, (5, 5), padding='same')(x)\n",
        "    c2 = ReLU()(c2)\n",
        "    c3 = Conv2D(16, (7, 7), padding='same')(x)\n",
        "    c3 = ReLU()(c3)\n",
        "    c4 = Conv2D(16, (1, 1), padding='same')(x)\n",
        "    c4 = ReLU()(c4)\n",
        "    x = Concatenate()([c1, c2, c3, c4])\n",
        "    x = BatchNormalization(axis=-1)(x)\n",
        "    x = MaxPooling2D(pool_size=(2, 2))(x)\n",
        "    x = Dropout(dropRate)(x)\n",
        "    x = Conv2D(32, (3, 3))(x)\n",
        "    x = ReLU()(x)\n",
        "    x = BatchNormalization(axis=-1)(x)\n",
        "    x = MaxPooling2D(pool_size=(2, 2))(x)\n",
        "    x = Dropout(dropRate)(x)\n",
        "    x = Conv2D(64, (3, 3))(x)\n",
        "    x = ReLU()(x)\n",
        "    x = BatchNormalization(axis=-1)(x)\n",
        "    x = MaxPooling2D(pool_size=(2, 2))(x)\n",
        "    x = Dropout(dropRate)(x)\n",
        "    x = Conv2D(128, (3, 3))(x)\n",
        "    x = ReLU()(x)\n",
        "    x = BatchNormalization(axis=-1)(x)\n",
        "    x = MaxPooling2D(pool_size=(2, 2))(x)\n",
        "    x = Dropout(dropRate)(x)\n",
        "    x = Flatten()(x)\n",
        "    x = Dropout(0.5)(x)\n",
        "    x = Dense(28)(x)\n",
        "    x = ReLU()(x)\n",
        "    x = BatchNormalization(axis=-1)(x)\n",
        "    x = Dropout(0.1)(x)\n",
        "    x = Dense(1)(x)\n",
        "    x = Activation('sigmoid')(x)\n",
        "    \n",
        "    model = Model(init, x)\n",
        "    \n",
        "    return model"
      ],
      "execution_count": 0,
      "outputs": []
    },
    {
      "metadata": {
        "_uuid": "75cfc4fcb8dd3408d1c4fcf8cd85e0e2f5b611d7",
        "id": "ls5uUszxv5kx",
        "colab_type": "text"
      },
      "cell_type": "markdown",
      "source": [
        "## * Train the Model"
      ]
    },
    {
      "metadata": {
        "trusted": true,
        "_uuid": "9de9715f49a63b55775b10abd2f461b395e23b5d",
        "id": "p3LqIe4Jv5kz",
        "colab_type": "code",
        "colab": {}
      },
      "cell_type": "code",
      "source": [
        "model = create_model(SHAPE)\n",
        "model.compile(\n",
        "    loss='binary_crossentropy',\n",
        "    optimizer=Adam(1e-03),\n",
        "    metrics=['accuracy'])\n",
        "\n",
        "model.summary()"
      ],
      "execution_count": 0,
      "outputs": []
    },
    {
      "metadata": {
        "id": "iP8faPHxkrbw",
        "colab_type": "text"
      },
      "cell_type": "markdown",
      "source": [
        "![10-1](https://user-images.githubusercontent.com/33708512/52691449-2bf30680-2fa4-11e9-97d7-5afd4db9f7b3.PNG)\n",
        "![10-2](https://user-images.githubusercontent.com/33708512/52691451-2c8b9d00-2fa4-11e9-80e1-e328c41a7675.PNG)\n",
        "![10-3](https://user-images.githubusercontent.com/33708512/52691452-2c8b9d00-2fa4-11e9-9e36-5f22b8cee5de.PNG)\n",
        "![10-4](https://user-images.githubusercontent.com/33708512/52691453-2c8b9d00-2fa4-11e9-9ee6-313aeaa46bb2.PNG)\n",
        "![10-5](https://user-images.githubusercontent.com/33708512/52691454-2d243380-2fa4-11e9-9c6a-288f4ebefd48.PNG)\n",
        "![10-6](https://user-images.githubusercontent.com/33708512/52691456-2d243380-2fa4-11e9-91b1-a5d6b0d1f449.PNG)\n",
        "![10-7](https://user-images.githubusercontent.com/33708512/52691458-2d243380-2fa4-11e9-959f-d011e816b819.PNG)"
      ]
    },
    {
      "metadata": {
        "trusted": true,
        "_uuid": "1e7aa531ca4c29527d3f70fc5fc7a16cb84bad01",
        "scrolled": true,
        "id": "gTHqE3c7v5k4",
        "colab_type": "code",
        "colab": {}
      },
      "cell_type": "code",
      "source": [
        "STEP_SIZE_TRAIN=train_generator.n//train_generator.batch_size\n",
        "STEP_SIZE_VALID=validation_generator.n//validation_generator.batch_size\n",
        "\n",
        "history = model.fit_generator(\n",
        "                train_generator,\n",
        "                steps_per_epoch=STEP_SIZE_TRAIN,\n",
        "                validation_data=validation_generator,\n",
        "                validation_steps=STEP_SIZE_VALID,epochs=20)"
      ],
      "execution_count": 0,
      "outputs": []
    },
    {
      "metadata": {
        "id": "0ZuYMqDylC0G",
        "colab_type": "text"
      },
      "cell_type": "markdown",
      "source": [
        "![11](https://user-images.githubusercontent.com/33708512/52691460-2dbcca00-2fa4-11e9-8080-a90c2aa4185c.PNG)"
      ]
    },
    {
      "metadata": {
        "trusted": true,
        "scrolled": false,
        "_uuid": "76d9495c5684937de3da7bf84c8c9d5dd6bd2866",
        "id": "cG0o4ZkEv5k8",
        "colab_type": "code",
        "colab": {}
      },
      "cell_type": "code",
      "source": [
        "import matplotlib.pyplot as plt\n",
        "fig, ax = plt.subplots(1, 2, figsize=(15,5))\n",
        "ax[0].set_title('loss')\n",
        "ax[0].plot(history.epoch, history.history[\"loss\"], label=\"Train loss\")\n",
        "ax[0].plot(history.epoch, history.history[\"val_loss\"], label=\"Validation loss\")\n",
        "ax[1].set_title('acc')\n",
        "ax[1].plot(history.epoch, history.history[\"acc\"], label=\"Training acc\")\n",
        "ax[1].plot(history.epoch, history.history[\"val_acc\"], label=\"Validation acc\")\n",
        "ax[0].legend()\n",
        "ax[1].legend()"
      ],
      "execution_count": 0,
      "outputs": []
    },
    {
      "metadata": {
        "id": "Fk_HJ-GelG_m",
        "colab_type": "text"
      },
      "cell_type": "markdown",
      "source": [
        "![12](https://user-images.githubusercontent.com/33708512/52691462-2dbcca00-2fa4-11e9-8c35-636511dfd9da.PNG)"
      ]
    },
    {
      "metadata": {
        "_uuid": "fa15a8afda3593973726e9087cbd98073041c908",
        "id": "7Wybg3tnv5k-",
        "colab_type": "text"
      },
      "cell_type": "markdown",
      "source": [
        "## * Evaluate the model using the test set"
      ]
    },
    {
      "metadata": {
        "trusted": true,
        "_uuid": "32d9f38640467b91a51368d5ebda5c29255900ea",
        "id": "tX7KXhj2v5k_",
        "colab_type": "code",
        "colab": {}
      },
      "cell_type": "code",
      "source": [
        "# Kaggle testing\n",
        "from glob import glob\n",
        "from skimage.io import imread \n",
        "\n",
        "testing_files = glob(os.path.join('../input/test/','*.tif'))\n",
        "submission = pd.DataFrame()\n",
        "for index in range(0, len(testing_files), BATCH_SIZE):\n",
        "    data_frame = pd.DataFrame({'path': testing_files[index:index+BATCH_SIZE]})\n",
        "    data_frame['id'] = data_frame.path.map(lambda x: x.split('/')[3].split(\".\")[0])\n",
        "    data_frame['image'] = data_frame['path'].map(imread)\n",
        "    images = np.stack(data_frame.image, axis=0)\n",
        "    predicted_labels = [model.predict(np.expand_dims(image/255.0, axis=0))[0][0] for image in images]\n",
        "    predictions = np.array(predicted_labels)\n",
        "    data_frame['label'] = predictions\n",
        "    submission = pd.concat([submission, data_frame[[\"id\", \"label\"]]])\n",
        "submission.to_csv('./submission_epoch20.csv', index=False, header=True)"
      ],
      "execution_count": 0,
      "outputs": []
    },
    {
      "metadata": {
        "trusted": true,
        "_uuid": "8b304f1e9ce823b5a09ab1cdacaf4d3294b0a604",
        "id": "mGy2WjLVv5lD",
        "colab_type": "code",
        "colab": {}
      },
      "cell_type": "code",
      "source": [
        "output = pd.read_csv('./submission_epoch20.csv')\n",
        "output.head()"
      ],
      "execution_count": 0,
      "outputs": []
    },
    {
      "metadata": {
        "id": "lTOSVWQYlNAW",
        "colab_type": "text"
      },
      "cell_type": "markdown",
      "source": [
        "![13](https://user-images.githubusercontent.com/33708512/52691463-2dbcca00-2fa4-11e9-9158-1f14a1c3cf6c.PNG)"
      ]
    },
    {
      "metadata": {
        "id": "yeOtEtneqa8w",
        "colab_type": "text"
      },
      "cell_type": "markdown",
      "source": [
        "### Reference Kernels\n",
        "\n",
        "\n",
        "*   https://www.kaggle.com/cheongwoongk/cnn-cancer-detection\n",
        "\n"
      ]
    }
  ]
}